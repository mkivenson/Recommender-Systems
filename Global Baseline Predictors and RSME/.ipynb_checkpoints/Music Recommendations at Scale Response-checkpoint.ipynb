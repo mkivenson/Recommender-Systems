{
 "cells": [
  {
   "cell_type": "markdown",
   "metadata": {},
   "source": [
    "## Prompt\n",
    "For this discussion item, please watch the following talk and summarize what you found to be the most important or interesting points. The first half will cover some of the mathematical techniques covered in this unit's reading and the second half some of the data management challenges in an industrial-scale recommendation system.\n",
    "\n",
    "\n",
    "## Takeaways\n",
    "\n",
    "### Recommender Systems\n",
    "Christopher Johnson's presentation on Music Recommendations at Scale with Spark begins with an overview of the different types of recommender systems used by music steaming companies such as Pandora, Spotify, and Songza. These strategies are the following:\n",
    "\n",
    "* Manual Curation\n",
    "* Manually Tag Attributes\n",
    "* Audio Content, Metadata, Text Analysis\n",
    "* Collaborative Filtering\n",
    "\n",
    "It seems like Spotify uses collaborative filtering in conjuction with content-based filtering for its artist radio stations and related artists recommendations. I am interested in how manual curation and manually tagging attributes can be done on the scale that companies such as Pandora have accomplished. \n",
    "\n",
    "\n",
    "### Movie Ratings vs Movie Viewership\n",
    "Christopher Johnson compared movie recommendation using movie viewership as a predictor as opposed to movie rating. More specifically, rather than creating a user-item matrix of ratings, a matrix can be created using binary ratings (to indicate whether a movie was watched or not). The binary rating can then be weighted based on the amount of times the movie is watched. This method is something that I would like to implement in my project, since I was having issues with the quality of my movie recommendations from item-item collaborative filtering. Using binary ratings to indicate whether a user liked each movie or not may help avoid recommendation issues caused by movie bias. \n"
   ]
  }
 ],
 "metadata": {
  "kernelspec": {
   "display_name": "Python 3",
   "language": "python",
   "name": "python3"
  },
  "language_info": {
   "codemirror_mode": {
    "name": "ipython",
    "version": 3
   },
   "file_extension": ".py",
   "mimetype": "text/x-python",
   "name": "python",
   "nbconvert_exporter": "python",
   "pygments_lexer": "ipython3",
   "version": "3.7.3"
  }
 },
 "nbformat": 4,
 "nbformat_minor": 2
}
