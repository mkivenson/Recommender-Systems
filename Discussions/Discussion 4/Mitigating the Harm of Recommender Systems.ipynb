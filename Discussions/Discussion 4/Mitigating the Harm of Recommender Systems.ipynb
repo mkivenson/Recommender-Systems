{
 "cells": [
  {
   "cell_type": "markdown",
   "metadata": {},
   "source": [
    "# Mitigating the Harm of Recommender Systems\n",
    "\n",
    "Read one or more of the articles below and consider how to counter the radicalizing effects of recommender systems or ways to prevent algorithmic discrimination.\n",
    "\n",
    "Renee Diresta, Wired.com (2018): [Up Next: A Better Recommendation System](https://www.wired.com/story/creating-ethical-recommendation-engines/)\n",
    "\n",
    "Zeynep Tufekci, The New York Times (2018): [YouTube, the Great Radicalizer](https://www.nytimes.com/2018/03/10/opinion/sunday/youtube-politics-radical.html)\n",
    "\n",
    "Sanjay Krishnan, Jay Patel, Michael J. Franklin, Ken Goldberg (n/a): [Social Influence Bias in Recommender Systems: A Methodology for Learning, Analyzing, and Mitigating Bias in Ratings](https://goldberg.berkeley.edu/pubs/sanjay-recsys-v10.pdf)\n",
    "\n",
    "Please make your post before our meetup on Thursday, and respond to at least one other student's posts by our meetup on Tuesday."
   ]
  },
  {
   "cell_type": "markdown",
   "metadata": {},
   "source": [
    "### Flagging Topics\n",
    "\n",
    "One of the potential solutions mentioned by Renee Diresta is to flag certain topics to flag sensitive topics for custom recommendations. For example, topics related to conspiracy theories or terrorism should be moderated to ensure recommendations do not lead to further extremism.\n",
    "\n",
    "### Alter Recommender Algorithms\n",
    "\n",
    "As Zeynep Tufekci suggests, Youtube and other platforms tend to recommend more extreme video options. Although more radical videos may attract more views, the priority could be to ensure that certain topics are not promoted or recommended further."
   ]
  },
  {
   "cell_type": "code",
   "execution_count": null,
   "metadata": {},
   "outputs": [],
   "source": []
  }
 ],
 "metadata": {
  "kernelspec": {
   "display_name": "Python 3",
   "language": "python",
   "name": "python3"
  },
  "language_info": {
   "codemirror_mode": {
    "name": "ipython",
    "version": 3
   },
   "file_extension": ".py",
   "mimetype": "text/x-python",
   "name": "python",
   "nbconvert_exporter": "python",
   "pygments_lexer": "ipython3",
   "version": "3.7.3"
  }
 },
 "nbformat": 4,
 "nbformat_minor": 2
}
