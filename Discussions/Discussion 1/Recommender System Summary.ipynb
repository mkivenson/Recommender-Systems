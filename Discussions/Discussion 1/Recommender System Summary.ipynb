{
 "cells": [
  {
   "cell_type": "markdown",
   "metadata": {},
   "source": [
    "## Recommender Systems\n",
    "Please complete the research discussion assignment in a Jupyter or R Markdown notebook. You should post the GitHub link to your research in a new discussion thread.\n",
    "\n",
    "Now that we have covered basic techniques for recommender systems, choose one commercial recommender and describe how you think it works (content-based, collaborative filtering, etc). Does the technique deliver a good experience or are the recommendations off-target?\n",
    "\n",
    "You may also choose one of the three non-personalized recommenders (below) we went over in class and describe the technique and which of the three you prefer to use.\n",
    "\n",
    "1. Metacritic:  [How We Create the Metascore Magic](http://www.metacritic.com/about-metascores)\n",
    "2. Rotten Tomatoes: [About Rotten Tomatoes](https://www.rottentomatoes.com/about/)\n",
    "3. IMDB: [FAQ for IMDb Ratings](http://imdb.to/%202ljPH90)\n",
    "\n",
    "Please complete the research discussion assignment in a Jupyter or R Markdown notebook. You should post the GitHub link to your research in a new discussion thread.\n",
    "\n",
    "\n",
    "### Response\n",
    "\n",
    "#### Discovery Maps\n",
    "\n",
    "The Global Network of Discovery recommender systems include [music maps](https://www.music-map.com/), [literature maps](https://www.literature-map.com/), and [movie maps](https://www.movie-map.com/). Each of these maps allows a user to select a music artist, author, or movie in order to view recommendations in a graphical format.\n",
    "\n",
    "A view of the music map is pictured below, given that the user selects The Beatles.\n",
    "\n",
    "<img src=\"https://raw.githubusercontent.com/mkivenson/Recommender-Systems/master/Discussions/Discussion%201/artistmap.png\">\n",
    "\n",
    "The distance between artists on the map is proportional to the probability that a person would like both artists. For example, someone who enjoys The Beatles is highly likely to also like Queen. These discovery maps seem to use content-based filtering (such as artist genre, collaborations, etc). Since no user information is collected by the website, collaborative filtering is not used. As a result, the discovery maps are more general (but less personalized) than sites such as Youtube, Spotify, or Netflix.\n",
    "\n",
    "#### Rotten Tomatoes\n",
    "Since I decided to web scrape Rotten Tomatoes reviews in the first project, I am also interested in the Rotten Tomatoes non-personalized recommender system. \n",
    "\n",
    "Rotten Tomatoes classifies movies by reviewer/critic ratings as well as by audience score. Critic reviews and audience reviews are categorized for each movie. Critic reviews can be fresh or rotten, determined by whether or not at least 60% of critics rated a movie positively. Similarly, audience reviews can be classified as a full popcorn bucket or a spilled popcorn bucket, depending on whether or not at least 60% of the audience gave a 3.5 or higher rating. Finally, a movie is certified fresh if it meets a certain higher popularity and rating criteria. \n",
    "\n",
    "This system does have the advantage of being more general and simple, however by classifying movies in a binary manner, some useful information is lost. A movie with a rating of 60% and a movie with a rating of 100% will both be classified as fresh, however there is still a large difference between the quality of these movies. IMBD and Metacritic have more quantitative measures of movie quality which would be more helpful in this situation. Despite this issue, Rotten Tomatoes is the top movie review aggregator site and I have noticed that I enjoyed all the certified fresh movies on Rotten Tomatoes.\n",
    "\n",
    "## Attacks on Recommender System\n",
    "\n",
    "Read the article below and consider how to handle attacks on recommender systems. Can you think of a similar example where a collective effort to alter the workings of content recommendations have been successful? How would you design a system to prevent this kind of abuse?\n",
    "\n",
    "[Travis M. Andrews, The Washington Post (2017): Wisdom of the crowd? IMDb users gang up on Christian Bale’s new movie before it even opens.](https://www.washingtonpost.com/news/morning-mix/wp/2017/04/19/wisdom-of-the-crowd-imdb-users-gang-up-on-the-promise-before-it-even-opens/?utm_term=.757fa312001d)\n",
    "\n",
    "### Response\n",
    "\n",
    "In addition to movie ratings that are made by users who haven't viewed a movie, attacks on recommender systems also come from fraudulent product reviews on Amazon and similar website. A substantial proportion of Amazon reviews are fake, with the exact percentages varying across department. Sellers on Amazon submit fake reviews, or even pay for product purchases to have more verified positive reviews. Similarly, sellers can also pay for verified negative reviews on their competitor's products. One of the main indicators of fraudulent reviews include similar wording on reviews, similarly staged images, and a similar (and sudden) time-frame for reviews. \n",
    "\n",
    "Source: https://thewirecutter.com/blog/lets-talk-about-amazon-reviews/"
   ]
  }
 ],
 "metadata": {
  "kernelspec": {
   "display_name": "Python 3",
   "language": "python",
   "name": "python3"
  },
  "language_info": {
   "codemirror_mode": {
    "name": "ipython",
    "version": 3
   },
   "file_extension": ".py",
   "mimetype": "text/x-python",
   "name": "python",
   "nbconvert_exporter": "python",
   "pygments_lexer": "ipython3",
   "version": "3.7.3"
  }
 },
 "nbformat": 4,
 "nbformat_minor": 2
}
