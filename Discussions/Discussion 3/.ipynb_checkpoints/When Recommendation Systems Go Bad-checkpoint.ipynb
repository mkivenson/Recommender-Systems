{
 "cells": [
  {
   "cell_type": "markdown",
   "metadata": {},
   "source": [
    "## Pitfalls of Recommendation Systems\n",
    "### Prompt\n",
    "As more systems and sectors are driven by predictive analytics, there is increasing awareness of the possibility and pitfalls of algorithmic discrimination. In what ways do you think Recommender Systems reinforce human bias? Reflecting on the techniques we have covered, do you think recommender systems reinforce or help to prevent unethical targeting or customer segmentation?  Please provide one or more examples to support your arguments.\n",
    "\n",
    "### Response\n",
    "At the ML Conference, Evan Estola discussed that Google recommends different search results depending on how a search is phrased. He provides a comparison of search results for `obama birth place` and `obama birth certificate fake`. The results for the latter search are mostly affirmation of Obama citizenship conspiracy theories. This contributes to polarization and extremism, since users are most likely to receive content that substantiates their existing views. \n",
    "\n",
    "Similar issues exist with recommendation engines for Facebook and Youtube. [For example, users on Facebook are recommended completely different feeds based on their political leanings](http://graphics.wsj.com/blue-feed-red-feed/). On Youtube, users are frequenctly streered towards extreme content portraying conpiracy theories or radical views. Recommender Systems may reinforce human bias by providing recommendations that substantiate those biases. There is the potential to avoid unethical targeting, but only if developers are aware of potential bias. Unless recommendation algorithms are built with these potential issues in mind, they will continue to perpetuate human bias. "
   ]
  }
 ],
 "metadata": {
  "kernelspec": {
   "display_name": "Python 3",
   "language": "python",
   "name": "python3"
  },
  "language_info": {
   "codemirror_mode": {
    "name": "ipython",
    "version": 3
   },
   "file_extension": ".py",
   "mimetype": "text/x-python",
   "name": "python",
   "nbconvert_exporter": "python",
   "pygments_lexer": "ipython3",
   "version": "3.7.3"
  }
 },
 "nbformat": 4,
 "nbformat_minor": 2
}
